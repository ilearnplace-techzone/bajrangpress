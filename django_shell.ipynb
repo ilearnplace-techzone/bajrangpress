{
 "cells": [
  {
   "cell_type": "markdown",
   "metadata": {},
   "source": [
    "# Django Env Setup for Notebook"
   ]
  },
  {
   "cell_type": "code",
   "execution_count": 49,
   "metadata": {},
   "outputs": [],
   "source": [
    "import os\n",
    "os.environ[\"DJANGO_SETTINGS_MODULE\"] = \"bajrangpress.settings\"\n",
    "os.environ[\"DJANGO_ALLOW_ASYNC_UNSAFE\"] = \"true\"\n",
    "import django\n",
    "django.setup()\n",
    "from bajranapp import models\n",
    "from bajranapp import serializers\n",
    "import pprint as pp\n",
    "import json\n",
    "from bajranapp.models import CoronaTracker,GlobalCoronatracker_Record\n"
   ]
  },
  {
   "cell_type": "code",
   "execution_count": 41,
   "metadata": {},
   "outputs": [
    {
     "name": "stdout",
     "output_type": "stream",
     "text": [
      "<QuerySet [<CoronaTracker: CoronaTracker object (1)>, <CoronaTracker: CoronaTracker object (2)>, <CoronaTracker: CoronaTracker object (3)>, <CoronaTracker: CoronaTracker object (4)>, <CoronaTracker: CoronaTracker object (5)>, <CoronaTracker: CoronaTracker object (6)>, <CoronaTracker: CoronaTracker object (7)>, <CoronaTracker: CoronaTracker object (8)>, <CoronaTracker: CoronaTracker object (9)>, <CoronaTracker: CoronaTracker object (10)>]>\n"
     ]
    }
   ],
   "source": [
    "all_data=models.CoronaTracker.objects.all()[:10]\n",
    "print(all_data)"
   ]
  },
  {
   "cell_type": "code",
   "execution_count": 89,
   "metadata": {},
   "outputs": [
    {
     "name": "stdout",
     "output_type": "stream",
     "text": [
      "<QuerySet [<CoronaTracker: CoronaTracker object (157019)>, <CoronaTracker: CoronaTracker object (157024)>, <CoronaTracker: CoronaTracker object (157037)>, <CoronaTracker: CoronaTracker object (157040)>, <CoronaTracker: CoronaTracker object (157046)>, <CoronaTracker: CoronaTracker object (157056)>, <CoronaTracker: CoronaTracker object (157070)>, <CoronaTracker: CoronaTracker object (157072)>, <CoronaTracker: CoronaTracker object (157085)>, <CoronaTracker: CoronaTracker object (157088)>]>\n"
     ]
    }
   ],
   "source": [
    "date_rangev=CoronaTracker.objects.filter(country=\"India\",lastUpdated__hour__gte=1,lastUpdated__range=[\"2020-05-25\",\"2020-05-26\"])\n",
    "print(date_rangev[:10])"
   ]
  },
  {
   "cell_type": "code",
   "execution_count": 90,
   "metadata": {},
   "outputs": [],
   "source": [
    "serializer=serializers.CoronaTrackerSerializers(date_rangev,many=True)\n",
    "data1=json.loads(json.dumps(serializer.data))\n"
   ]
  },
  {
   "cell_type": "code",
   "execution_count": 92,
   "metadata": {},
   "outputs": [
    {
     "name": "stdout",
     "output_type": "stream",
     "text": [
      "480\n"
     ]
    }
   ],
   "source": [
    "pp.pprint(len(data1))"
   ]
  },
  {
   "cell_type": "code",
   "execution_count": 64,
   "metadata": {},
   "outputs": [
    {
     "name": "stdout",
     "output_type": "stream",
     "text": [
      "<QuerySet [<CoronaTracker: CoronaTracker object (1)>, <CoronaTracker: CoronaTracker object (2)>, <CoronaTracker: CoronaTracker object (3)>, <CoronaTracker: CoronaTracker object (4)>, <CoronaTracker: CoronaTracker object (5)>, <CoronaTracker: CoronaTracker object (6)>, <CoronaTracker: CoronaTracker object (7)>, <CoronaTracker: CoronaTracker object (8)>, <CoronaTracker: CoronaTracker object (9)>, <CoronaTracker: CoronaTracker object (10)>, <CoronaTracker: CoronaTracker object (11)>, <CoronaTracker: CoronaTracker object (12)>, <CoronaTracker: CoronaTracker object (13)>, <CoronaTracker: CoronaTracker object (14)>, <CoronaTracker: CoronaTracker object (15)>, <CoronaTracker: CoronaTracker object (21)>, <CoronaTracker: CoronaTracker object (32)>, <CoronaTracker: CoronaTracker object (52)>, <CoronaTracker: CoronaTracker object (68)>, <CoronaTracker: CoronaTracker object (83)>, '...(remaining elements truncated)...']>\n"
     ]
    }
   ],
   "source": [
    "countryview=CoronaTracker.objects.filter(country=\"India\")\n",
    "print(countryview)"
   ]
  },
  {
   "cell_type": "code",
   "execution_count": 68,
   "metadata": {},
   "outputs": [],
   "source": [
    "serializer=serializers.CoronaTrackerSerializers(countryview,many=True)\n",
    "data2=json.loads(json.dumps(serializer.data))\n"
   ]
  },
  {
   "cell_type": "code",
   "execution_count": 1,
   "metadata": {},
   "outputs": [],
   "source": [
    "# pp.pprint(data2)"
   ]
  },
  {
   "cell_type": "code",
   "execution_count": 26,
   "metadata": {},
   "outputs": [],
   "source": [
    "serializer=serializers.CoronaTrackerSerializers(all_data,many=True)\n",
    "data=json.loads(json.dumps(serializer.data))\n"
   ]
  },
  {
   "cell_type": "code",
   "execution_count": 2,
   "metadata": {},
   "outputs": [],
   "source": [
    "# pp.pprint(data)"
   ]
  },
  {
   "cell_type": "code",
   "execution_count": 3,
   "metadata": {},
   "outputs": [],
   "source": [
    "# date_rangev=CoronaTracker.objects.filter(lastUpdated=[\"2020-05-01\",\"2020-05-11\"])"
   ]
  },
  {
   "cell_type": "code",
   "execution_count": null,
   "metadata": {},
   "outputs": [],
   "source": []
  }
 ],
 "metadata": {
  "kernelspec": {
   "display_name": "Python 3 (ipykernel)",
   "language": "python",
   "name": "python3"
  },
  "language_info": {
   "codemirror_mode": {
    "name": "ipython",
    "version": 3
   },
   "file_extension": ".py",
   "mimetype": "text/x-python",
   "name": "python",
   "nbconvert_exporter": "python",
   "pygments_lexer": "ipython3",
   "version": "3.8.10"
  }
 },
 "nbformat": 4,
 "nbformat_minor": 4
}
